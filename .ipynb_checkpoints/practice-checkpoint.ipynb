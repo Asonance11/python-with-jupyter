{
 "cells": [
  {
   "cell_type": "code",
   "execution_count": 20,
   "id": "fe675fd3-be00-4629-b2c4-3ea873b8fd1f",
   "metadata": {},
   "outputs": [
    {
     "name": "stdout",
     "output_type": "stream",
     "text": [
      "<class 'int'>\n"
     ]
    }
   ],
   "source": [
    "a = 3\n",
    "print(type(a))"
   ]
  },
  {
   "cell_type": "code",
   "execution_count": 2,
   "id": "86bd2822-1afd-4c33-aa7d-982c9fb5f63b",
   "metadata": {},
   "outputs": [
    {
     "name": "stdout",
     "output_type": "stream",
     "text": [
      "True\n"
     ]
    }
   ],
   "source": [
    "a = 3 > 1\n",
    "print(a)"
   ]
  },
  {
   "cell_type": "code",
   "execution_count": 4,
   "id": "25eb9ca8-7039-4585-bc75-f5891d65c18d",
   "metadata": {},
   "outputs": [
    {
     "name": "stdout",
     "output_type": "stream",
     "text": [
      "True\n"
     ]
    }
   ],
   "source": [
    "rent = 1200\n",
    "is_affordable = rent > 1000 and rent < 2000\n",
    "print(is_affordable)"
   ]
  },
  {
   "cell_type": "code",
   "execution_count": 5,
   "id": "cfe474e7-2f82-45f2-8ded-46ce36554b58",
   "metadata": {},
   "outputs": [
    {
     "name": "stdout",
     "output_type": "stream",
     "text": [
      "your mama\n",
      "yout mama\n"
     ]
    }
   ],
   "source": [
    "print('your mama')\n",
    "print(\"yout mama\")"
   ]
  },
  {
   "cell_type": "code",
   "execution_count": 6,
   "id": "c17df824-269b-461a-ad11-9ce283873641",
   "metadata": {},
   "outputs": [
    {
     "name": "stdout",
     "output_type": "stream",
     "text": [
      "sheava said, \"you learn as you grow\"\n"
     ]
    }
   ],
   "source": [
    "dialogue = 'sheava said, \"you learn as you grow\"'\n",
    "print(dialogue)"
   ]
  },
  {
   "cell_type": "code",
   "execution_count": 7,
   "id": "45df00aa-7357-49df-b05e-b68470d6a9ac",
   "metadata": {},
   "outputs": [
    {
     "name": "stdout",
     "output_type": "stream",
     "text": [
      "sheva said,you're learning\n"
     ]
    }
   ],
   "source": [
    "dialogue = 'sheva said,you\\'re learning'\n",
    "print(dialogue)"
   ]
  },
  {
   "cell_type": "code",
   "execution_count": 8,
   "id": "9534d2c0-a6d1-42ab-9338-22046c55e2fc",
   "metadata": {},
   "outputs": [
    {
     "name": "stdout",
     "output_type": "stream",
     "text": [
      "hellohellohellohellohello\n"
     ]
    }
   ],
   "source": [
    "word = 'hello'\n",
    "print(word * 5)"
   ]
  },
  {
   "cell_type": "code",
   "execution_count": 10,
   "id": "44561fe6-3347-4f50-a21f-43472fd76ffd",
   "metadata": {},
   "outputs": [
    {
     "name": "stdout",
     "output_type": "stream",
     "text": [
      "1.0\n"
     ]
    }
   ],
   "source": [
    "word_1 = len('hello')\n",
    "word_2 = len('world')\n",
    "print(word_1 / word_2)"
   ]
  },
  {
   "cell_type": "code",
   "execution_count": 11,
   "id": "82fc38aa-1a80-47b7-bdce-bdbe12785053",
   "metadata": {},
   "outputs": [
    {
     "name": "stdout",
     "output_type": "stream",
     "text": [
      "if you don't get it, forget about it\n"
     ]
    }
   ],
   "source": [
    "print_note = 'if you don\\'t get it, forget about it'\n",
    "print(print_note)"
   ]
  },
  {
   "cell_type": "code",
   "execution_count": 12,
   "id": "3cd4b1d7-f57f-429a-8bcd-74e2be8f5e3b",
   "metadata": {},
   "outputs": [
    {
     "name": "stdout",
     "output_type": "stream",
     "text": [
      "<class 'str'>\n"
     ]
    }
   ],
   "source": [
    "number = '69420'\n",
    "print(type(number))"
   ]
  },
  {
   "cell_type": "code",
   "execution_count": 18,
   "id": "015b1c39-36dc-44c5-8260-902d14d26d7f",
   "metadata": {},
   "outputs": [
    {
     "name": "stdout",
     "output_type": "stream",
     "text": [
      "The BMW E30 was made in 1991\n"
     ]
    }
   ],
   "source": [
    "model = '1991'\n",
    "car = 'BMW E30'\n",
    "print('The ' + car + ' was made in ' + model)"
   ]
  },
  {
   "cell_type": "code",
   "execution_count": 3,
   "id": "20052a5b-d435-4b10-a262-98d7b0268758",
   "metadata": {},
   "outputs": [
    {
     "name": "stdout",
     "output_type": "stream",
     "text": [
      "I scored 15 in coding during my first semester.\n"
     ]
    }
   ],
   "source": [
    "marks = 15\n",
    "subject = 'coding'\n",
    "semester = 'first'\n",
    "\n",
    "result = 'I scored ' + str(marks) + ' in ' + subject + ' during my ' + semester + ' semester.'\n",
    "print(result)"
   ]
  },
  {
   "cell_type": "code",
   "execution_count": 4,
   "id": "8a012126-1a4c-40db-80f5-840f006c250f",
   "metadata": {},
   "outputs": [
    {
     "name": "stdout",
     "output_type": "stream",
     "text": [
      "does your dog bite\n"
     ]
    }
   ],
   "source": [
    "animal = 'dog'\n",
    "action = 'bite'\n",
    "print('does your {} {}'.format(animal, action))"
   ]
  },
  {
   "cell_type": "code",
   "execution_count": 5,
   "id": "f4ff0294-403d-4179-9029-fd32cc378b40",
   "metadata": {},
   "outputs": [
    {
     "name": "stdout",
     "output_type": "stream",
     "text": [
      "maria loves math and statistics\n"
     ]
    }
   ],
   "source": [
    "maria_string = 'maria loves {} and {}'\n",
    "print(maria_string.format('math', 'statistics'))"
   ]
  },
  {
   "cell_type": "code",
   "execution_count": 6,
   "id": "c34e4051-8018-4c53-befc-d993ef1b66ca",
   "metadata": {},
   "outputs": [
    {
     "name": "stdout",
     "output_type": "stream",
     "text": [
      "I scored 15 in coding during my first semester.\n"
     ]
    }
   ],
   "source": [
    "marks = 15\n",
    "subject = 'coding'\n",
    "semester = 'first'\n",
    "\n",
    "result = 'I scored {} in {} during my {} semester.'\n",
    "print(result.format(marks, subject, semester))"
   ]
  },
  {
   "cell_type": "code",
   "execution_count": 10,
   "id": "b2b564b5-c148-40e0-9a9b-386455168c9a",
   "metadata": {},
   "outputs": [
    {
     "name": "stdout",
     "output_type": "stream",
     "text": [
      "<class 'list'>\n",
      "sam\n",
      "ithiel\n"
     ]
    }
   ],
   "source": [
    "# lists\n",
    "\n",
    "students = ['sam', 'fiyin', 'austin', 'ithiel']\n",
    "print(type(students))\n",
    "print(students[0])\n",
    "print(students[-1])"
   ]
  },
  {
   "cell_type": "code",
   "execution_count": 11,
   "id": "530a3284-b897-47d9-a8a2-d47c6cb5bd7f",
   "metadata": {},
   "outputs": [
    {
     "name": "stdout",
     "output_type": "stream",
     "text": [
      "['a', 'b', 'c', 'd', 'e']\n"
     ]
    }
   ],
   "source": [
    "letters = ['a', 'b', 'c', 'd']\n",
    "letters.append('e')\n",
    "print(letters)"
   ]
  },
  {
   "cell_type": "code",
   "execution_count": 13,
   "id": "bac060d1-e404-446b-8b5f-df59f9b10d98",
   "metadata": {},
   "outputs": [
    {
     "name": "stdout",
     "output_type": "stream",
     "text": [
      "['e', 'a', 'b', 'c', 'd']\n"
     ]
    }
   ],
   "source": [
    "letters = ['a', 'b', 'c', 'd']\n",
    "letters.insert(0, 'e')\n",
    "print(letters)"
   ]
  },
  {
   "cell_type": "code",
   "execution_count": 14,
   "id": "efe1b96a-0903-4f52-8cde-28631403327c",
   "metadata": {},
   "outputs": [
    {
     "name": "stdout",
     "output_type": "stream",
     "text": [
      "<class 'tuple'>\n"
     ]
    }
   ],
   "source": [
    "# tuples\n",
    "vector = (3, 4, 5)\n",
    "print(type(vector))"
   ]
  },
  {
   "cell_type": "code",
   "execution_count": 16,
   "id": "f4ae005e-ccc2-4bc5-aefe-60df15cf24f2",
   "metadata": {},
   "outputs": [
    {
     "name": "stdout",
     "output_type": "stream",
     "text": [
      "<class 'dict'>\n"
     ]
    }
   ],
   "source": [
    "# dictionary\n",
    "elements = {'Hydrogen': 1, 'Helium': 2, 'Lithium': 3}\n",
    "print(type(elements))"
   ]
  },
  {
   "cell_type": "code",
   "execution_count": 17,
   "id": "884efcb9-996a-4dbd-b7ba-3803aa3f3482",
   "metadata": {},
   "outputs": [],
   "source": [
    "numbers = {1: 'one', 2: 'two', 3: 'three'}\n"
   ]
  },
  {
   "cell_type": "code",
   "execution_count": 19,
   "id": "445dd8cb-8f8f-4769-8bce-15218e8a0bde",
   "metadata": {},
   "outputs": [
    {
     "name": "stdout",
     "output_type": "stream",
     "text": [
      "the result is  7\n"
     ]
    }
   ],
   "source": [
    "# functions\n",
    "\n",
    "def addition(a,b):\n",
    "    c = a + b\n",
    "    print('the result is ', c)\n",
    "\n",
    "addition(3,4)"
   ]
  },
  {
   "cell_type": "code",
   "execution_count": 20,
   "id": "ccc146fa-1078-4467-8e97-6588af6d0a3c",
   "metadata": {},
   "outputs": [
    {
     "name": "stdout",
     "output_type": "stream",
     "text": [
      "0\n",
      "1\n",
      "2\n",
      "3\n",
      "4\n"
     ]
    }
   ],
   "source": [
    "# for loop\n",
    "for i in range(5):\n",
    "    print(i)\n",
    "    "
   ]
  },
  {
   "cell_type": "code",
   "execution_count": 1,
   "id": "60986595-4717-4eca-aacf-260bad8743e2",
   "metadata": {},
   "outputs": [
    {
     "name": "stdin",
     "output_type": "stream",
     "text": [
      "Enter your name:  Sam\n"
     ]
    },
    {
     "name": "stdout",
     "output_type": "stream",
     "text": [
      "Hello Sam\n",
      "0\n",
      "1\n",
      "2\n",
      "3\n",
      "4\n",
      "5\n",
      "6\n",
      "7\n",
      "8\n",
      "9\n",
      "50\n",
      "52\n",
      "54\n",
      "56\n",
      "58\n",
      "60\n",
      "62\n",
      "64\n",
      "66\n",
      "68\n",
      "70\n",
      "72\n",
      "74\n",
      "76\n",
      "78\n",
      "80\n",
      "82\n",
      "84\n",
      "86\n",
      "88\n",
      "90\n",
      "92\n",
      "94\n",
      "96\n",
      "98\n",
      "100\n",
      "10\n",
      "9\n",
      "8\n",
      "7\n",
      "6\n",
      "5\n",
      "4\n",
      "3\n",
      "2\n",
      "1\n",
      "Its time to go\n"
     ]
    },
    {
     "name": "stdin",
     "output_type": "stream",
     "text": [
      "How many rows:  3\n",
      "How many columns:  4\n",
      "Enter a symbol:  $\n"
     ]
    },
    {
     "name": "stdout",
     "output_type": "stream",
     "text": [
      "$$$$\n",
      "$$$$\n",
      "$$$$\n"
     ]
    },
    {
     "name": "stdin",
     "output_type": "stream",
     "text": [
      "Enter your name:  Sam\n"
     ]
    },
    {
     "name": "stdout",
     "output_type": "stream",
     "text": [
      "123456789\n",
      "0123456789101112131416171819"
     ]
    }
   ],
   "source": [
    "import time\n",
    "# while loop\n",
    "\n",
    "name = \"\"\n",
    "\n",
    "while len(name) == 0:\n",
    "    name = input(\"Enter your name: \")\n",
    "\n",
    "print(\"Hello \" + name)\n",
    "\n",
    "# for loops\n",
    "\n",
    "for i in range(10):\n",
    "    print(i)\n",
    "\n",
    "for i in range(50, 100+1, 2):\n",
    "    print(i)\n",
    "\n",
    "for i in range(10, 0, -1):\n",
    "    print(i)\n",
    "    time.sleep(1)\n",
    "print(\"Its time to go\")\n",
    "\n",
    "# nested loops\n",
    "rows = int(input(\"How many rows: \"))\n",
    "columns = int(input(\"How many columns: \"))\n",
    "symbol = input('Enter a symbol: ')\n",
    "\n",
    "for i in range(rows):\n",
    "    for j in range(columns):\n",
    "        print(symbol, end=\"\")\n",
    "    print()\n",
    "\n",
    "# control statements\n",
    "while True:\n",
    "    name = input('Enter your name: ')\n",
    "    if name != \"\":\n",
    "        break\n",
    "\n",
    "phone_number = \"123-456-789\"\n",
    "for i in phone_number:\n",
    "    if i == \"-\":\n",
    "        continue\n",
    "    print(i, end=\"\")\n",
    "print()\n",
    "for i in range(20):\n",
    "    if i == 15:\n",
    "        pass\n",
    "    else:\n",
    "        print(i, end=\"\")"
   ]
  },
  {
   "cell_type": "code",
   "execution_count": 2,
   "id": "ea27d017-5593-4284-b08d-9a87c57af5c3",
   "metadata": {},
   "outputs": [
    {
     "name": "stdin",
     "output_type": "stream",
     "text": [
      "Enter your score:  70\n"
     ]
    },
    {
     "name": "stdout",
     "output_type": "stream",
     "text": [
      "You got a B!\n"
     ]
    },
    {
     "name": "stdin",
     "output_type": "stream",
     "text": [
      "Enter the temperature:  35\n"
     ]
    },
    {
     "name": "stdout",
     "output_type": "stream",
     "text": [
      "Weather is not nice today!\n"
     ]
    }
   ],
   "source": [
    "score = int(input(\"Enter your score: \"))\n",
    "if score >= 85:\n",
    "    print(\"You got an A!\")\n",
    "elif score >= 60:\n",
    "    print(\"You got a B!\")\n",
    "elif score >= 50:\n",
    "    print(\"You got a C!\")\n",
    "else:\n",
    "    print(\"You got an F!\")\n",
    "\n",
    "temperature = float(input(\"Enter the temperature: \"))\n",
    "if temperature > 0 and temperature < 30:\n",
    "    print(\"Weather is nice today!\")\n",
    "elif temperature < 0 or temperature > 30:\n",
    "    print(\"Weather is not nice today!\")"
   ]
  },
  {
   "cell_type": "code",
   "execution_count": 5,
   "id": "9653bb0e-4ae9-47b8-8517-a42db33d14f6",
   "metadata": {},
   "outputs": [
    {
     "name": "stdin",
     "output_type": "stream",
     "text": [
      "What text do ya wanna convert to speech:  The most affordable luxury of an unproductive man is time.\n"
     ]
    }
   ],
   "source": [
    "# Natural Language Processing\n",
    "import pyttsx3\n",
    "text_speech = pyttsx3.init()\n",
    "\n",
    "# input\n",
    "answer = input('What text do ya wanna convert to speech: ')\n",
    "text_speech.say(answer)\n",
    "text_speech.runAndWait()"
   ]
  },
  {
   "cell_type": "code",
   "execution_count": 19,
   "id": "37e1d03c-e86f-48d9-86fc-9163b44d9471",
   "metadata": {},
   "outputs": [
    {
     "name": "stdin",
     "output_type": "stream",
     "text": [
      "What text do ya wanna convert to speech:  Hello papi\n"
     ]
    }
   ],
   "source": [
    "# Natural Language Processing\n",
    "import pyttsx3\n",
    "text_speech = pyttsx3.init()\n",
    "\n",
    "# input\n",
    "voices = text_speech.getProperty('voices')\n",
    "text_speech.setProperty('voice', voices[1].id)\n",
    "# print(voices)\n",
    "\n",
    "answer = input('What text do ya wanna convert to speech: ')\n",
    "# Saving of in variable\n",
    "text_speech.say(answer)\n",
    "text_speech.runAndWait()"
   ]
  },
  {
   "cell_type": "code",
   "execution_count": 21,
   "id": "766261be-d72d-4210-84f3-69c024b24383",
   "metadata": {},
   "outputs": [
    {
     "name": "stdin",
     "output_type": "stream",
     "text": [
      "What text do ya wanna convert to speech:  Hello world\n"
     ]
    }
   ],
   "source": [
    "# Natural Language Processing\n",
    "import pyttsx3\n",
    "text_speech = pyttsx3.init()\n",
    "\n",
    "answer = input('What text do ya wanna convert to speech: ')\n",
    "# Saving of in variable\n",
    "text_speech.say(answer)\n",
    "text_speech.save_to_file('Hello, my name is Adigun Samuel', 'test.mp3')\n",
    "text_speech.runAndWait()"
   ]
  },
  {
   "cell_type": "code",
   "execution_count": null,
   "id": "66116f9d-b93a-4410-9c8e-be3802b1ddda",
   "metadata": {},
   "outputs": [],
   "source": [
    "import SpeechRecognition as sr\n",
    "\n",
    "recognizer = sr.recognizer()\n",
    "\n",
    "with sr.Microphone() as source:\n",
    "    print('Adjusting Noise ')\n",
    "    recognizer.adjust_for_ambient_noise(sorce, duration=1)\n",
    "    print('recording for 7 seconds ')\n",
    "    recorded_audio = recognizer.listen(source, timeout=7)\n",
    "    print('done recording')\n",
    "\n",
    "try:\n",
    "    print('Recognizing the text')\n",
    "    text = recognizer.recognize_google(recorded_audio, language = \"en-US\")\n",
    "    print('Decoded text: {}'.format(text))\n",
    "\n",
    "except Exception as ex:\n",
    "    print(ex)\n",
    "\n",
    "sr.Microphone.list_microphone_names()"
   ]
  }
 ],
 "metadata": {
  "kernelspec": {
   "display_name": "Python 3 (ipykernel)",
   "language": "python",
   "name": "python3"
  },
  "language_info": {
   "codemirror_mode": {
    "name": "ipython",
    "version": 3
   },
   "file_extension": ".py",
   "mimetype": "text/x-python",
   "name": "python",
   "nbconvert_exporter": "python",
   "pygments_lexer": "ipython3",
   "version": "3.11.5"
  }
 },
 "nbformat": 4,
 "nbformat_minor": 5
}
