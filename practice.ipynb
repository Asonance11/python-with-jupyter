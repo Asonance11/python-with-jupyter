{
 "cells": [
  {
   "cell_type": "code",
   "execution_count": 1,
   "id": "fe675fd3-be00-4629-b2c4-3ea873b8fd1f",
   "metadata": {},
   "outputs": [
    {
     "name": "stdout",
     "output_type": "stream",
     "text": [
      "<class 'int'>\n"
     ]
    }
   ],
   "source": [
    "a = 3\n",
    "print(type(a))"
   ]
  },
  {
   "cell_type": "code",
   "execution_count": 2,
   "id": "86bd2822-1afd-4c33-aa7d-982c9fb5f63b",
   "metadata": {},
   "outputs": [
    {
     "name": "stdout",
     "output_type": "stream",
     "text": [
      "True\n"
     ]
    }
   ],
   "source": [
    "a = 3 > 1\n",
    "print(a)"
   ]
  },
  {
   "cell_type": "code",
   "execution_count": 4,
   "id": "25eb9ca8-7039-4585-bc75-f5891d65c18d",
   "metadata": {},
   "outputs": [
    {
     "name": "stdout",
     "output_type": "stream",
     "text": [
      "True\n"
     ]
    }
   ],
   "source": [
    "rent = 1200\n",
    "is_affordable = rent > 1000 and rent < 2000\n",
    "print(is_affordable)"
   ]
  },
  {
   "cell_type": "code",
   "execution_count": 5,
   "id": "cfe474e7-2f82-45f2-8ded-46ce36554b58",
   "metadata": {},
   "outputs": [
    {
     "name": "stdout",
     "output_type": "stream",
     "text": [
      "your mama\n",
      "yout mama\n"
     ]
    }
   ],
   "source": [
    "print('your mama')\n",
    "print(\"yout mama\")"
   ]
  },
  {
   "cell_type": "code",
   "execution_count": 6,
   "id": "c17df824-269b-461a-ad11-9ce283873641",
   "metadata": {},
   "outputs": [
    {
     "name": "stdout",
     "output_type": "stream",
     "text": [
      "sheava said, \"you learn as you grow\"\n"
     ]
    }
   ],
   "source": [
    "dialogue = 'sheava said, \"you learn as you grow\"'\n",
    "print(dialogue)"
   ]
  },
  {
   "cell_type": "code",
   "execution_count": 7,
   "id": "45df00aa-7357-49df-b05e-b68470d6a9ac",
   "metadata": {},
   "outputs": [
    {
     "name": "stdout",
     "output_type": "stream",
     "text": [
      "sheva said,you're learning\n"
     ]
    }
   ],
   "source": [
    "dialogue = 'sheva said,you\\'re learning'\n",
    "print(dialogue)"
   ]
  },
  {
   "cell_type": "code",
   "execution_count": 8,
   "id": "9534d2c0-a6d1-42ab-9338-22046c55e2fc",
   "metadata": {},
   "outputs": [
    {
     "name": "stdout",
     "output_type": "stream",
     "text": [
      "hellohellohellohellohello\n"
     ]
    }
   ],
   "source": [
    "word = 'hello'\n",
    "print(word * 5)"
   ]
  },
  {
   "cell_type": "code",
   "execution_count": 10,
   "id": "44561fe6-3347-4f50-a21f-43472fd76ffd",
   "metadata": {},
   "outputs": [
    {
     "name": "stdout",
     "output_type": "stream",
     "text": [
      "1.0\n"
     ]
    }
   ],
   "source": [
    "word_1 = len('hello')\n",
    "word_2 = len('world')\n",
    "print(word_1 / word_2)"
   ]
  },
  {
   "cell_type": "code",
   "execution_count": 11,
   "id": "82fc38aa-1a80-47b7-bdce-bdbe12785053",
   "metadata": {},
   "outputs": [
    {
     "name": "stdout",
     "output_type": "stream",
     "text": [
      "if you don't get it, forget about it\n"
     ]
    }
   ],
   "source": [
    "print_note = 'if you don\\'t get it, forget about it'\n",
    "print(print_note)"
   ]
  },
  {
   "cell_type": "code",
   "execution_count": 12,
   "id": "3cd4b1d7-f57f-429a-8bcd-74e2be8f5e3b",
   "metadata": {},
   "outputs": [
    {
     "name": "stdout",
     "output_type": "stream",
     "text": [
      "<class 'str'>\n"
     ]
    }
   ],
   "source": [
    "number = '69420'\n",
    "print(type(number))"
   ]
  },
  {
   "cell_type": "code",
   "execution_count": 18,
   "id": "015b1c39-36dc-44c5-8260-902d14d26d7f",
   "metadata": {},
   "outputs": [
    {
     "name": "stdout",
     "output_type": "stream",
     "text": [
      "The BMW E30 was made in 1991\n"
     ]
    }
   ],
   "source": [
    "model = '1991'\n",
    "car = 'BMW E30'\n",
    "print('The ' + car + ' was made in ' + model)"
   ]
  },
  {
   "cell_type": "code",
   "execution_count": null,
   "id": "20052a5b-d435-4b10-a262-98d7b0268758",
   "metadata": {},
   "outputs": [],
   "source": []
  }
 ],
 "metadata": {
  "kernelspec": {
   "display_name": "Python 3 (ipykernel)",
   "language": "python",
   "name": "python3"
  },
  "language_info": {
   "codemirror_mode": {
    "name": "ipython",
    "version": 3
   },
   "file_extension": ".py",
   "mimetype": "text/x-python",
   "name": "python",
   "nbconvert_exporter": "python",
   "pygments_lexer": "ipython3",
   "version": "3.11.5"
  }
 },
 "nbformat": 4,
 "nbformat_minor": 5
}
