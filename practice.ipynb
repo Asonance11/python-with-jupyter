{
 "cells": [
  {
   "cell_type": "code",
   "execution_count": 1,
   "id": "fe675fd3-be00-4629-b2c4-3ea873b8fd1f",
   "metadata": {},
   "outputs": [
    {
     "name": "stdout",
     "output_type": "stream",
     "text": [
      "<class 'int'>\n"
     ]
    }
   ],
   "source": [
    "a = 3\n",
    "print(type(a))"
   ]
  },
  {
   "cell_type": "code",
   "execution_count": 2,
   "id": "86bd2822-1afd-4c33-aa7d-982c9fb5f63b",
   "metadata": {},
   "outputs": [
    {
     "name": "stdout",
     "output_type": "stream",
     "text": [
      "True\n"
     ]
    }
   ],
   "source": [
    "a = 3 > 1\n",
    "print(a)"
   ]
  },
  {
   "cell_type": "code",
   "execution_count": 4,
   "id": "25eb9ca8-7039-4585-bc75-f5891d65c18d",
   "metadata": {},
   "outputs": [
    {
     "name": "stdout",
     "output_type": "stream",
     "text": [
      "True\n"
     ]
    }
   ],
   "source": [
    "rent = 1200\n",
    "is_affordable = rent > 1000 and rent < 2000\n",
    "print(is_affordable)"
   ]
  },
  {
   "cell_type": "code",
   "execution_count": 5,
   "id": "cfe474e7-2f82-45f2-8ded-46ce36554b58",
   "metadata": {},
   "outputs": [
    {
     "name": "stdout",
     "output_type": "stream",
     "text": [
      "your mama\n",
      "yout mama\n"
     ]
    }
   ],
   "source": [
    "print('your mama')\n",
    "print(\"yout mama\")"
   ]
  },
  {
   "cell_type": "code",
   "execution_count": 6,
   "id": "c17df824-269b-461a-ad11-9ce283873641",
   "metadata": {},
   "outputs": [
    {
     "name": "stdout",
     "output_type": "stream",
     "text": [
      "sheava said, \"you learn as you grow\"\n"
     ]
    }
   ],
   "source": [
    "dialogue = 'sheava said, \"you learn as you grow\"'\n",
    "print(dialogue)"
   ]
  },
  {
   "cell_type": "code",
   "execution_count": 7,
   "id": "45df00aa-7357-49df-b05e-b68470d6a9ac",
   "metadata": {},
   "outputs": [
    {
     "name": "stdout",
     "output_type": "stream",
     "text": [
      "sheva said,you're learning\n"
     ]
    }
   ],
   "source": [
    "dialogue = 'sheva said,you\\'re learning'\n",
    "print(dialogue)"
   ]
  },
  {
   "cell_type": "code",
   "execution_count": 8,
   "id": "9534d2c0-a6d1-42ab-9338-22046c55e2fc",
   "metadata": {},
   "outputs": [
    {
     "name": "stdout",
     "output_type": "stream",
     "text": [
      "hellohellohellohellohello\n"
     ]
    }
   ],
   "source": [
    "word = 'hello'\n",
    "print(word * 5)"
   ]
  },
  {
   "cell_type": "code",
   "execution_count": 10,
   "id": "44561fe6-3347-4f50-a21f-43472fd76ffd",
   "metadata": {},
   "outputs": [
    {
     "name": "stdout",
     "output_type": "stream",
     "text": [
      "1.0\n"
     ]
    }
   ],
   "source": [
    "word_1 = len('hello')\n",
    "word_2 = len('world')\n",
    "print(word_1 / word_2)"
   ]
  },
  {
   "cell_type": "code",
   "execution_count": 11,
   "id": "82fc38aa-1a80-47b7-bdce-bdbe12785053",
   "metadata": {},
   "outputs": [
    {
     "name": "stdout",
     "output_type": "stream",
     "text": [
      "if you don't get it, forget about it\n"
     ]
    }
   ],
   "source": [
    "print_note = 'if you don\\'t get it, forget about it'\n",
    "print(print_note)"
   ]
  },
  {
   "cell_type": "code",
   "execution_count": 12,
   "id": "3cd4b1d7-f57f-429a-8bcd-74e2be8f5e3b",
   "metadata": {},
   "outputs": [
    {
     "name": "stdout",
     "output_type": "stream",
     "text": [
      "<class 'str'>\n"
     ]
    }
   ],
   "source": [
    "number = '69420'\n",
    "print(type(number))"
   ]
  },
  {
   "cell_type": "code",
   "execution_count": 18,
   "id": "015b1c39-36dc-44c5-8260-902d14d26d7f",
   "metadata": {},
   "outputs": [
    {
     "name": "stdout",
     "output_type": "stream",
     "text": [
      "The BMW E30 was made in 1991\n"
     ]
    }
   ],
   "source": [
    "model = '1991'\n",
    "car = 'BMW E30'\n",
    "print('The ' + car + ' was made in ' + model)"
   ]
  },
  {
   "cell_type": "code",
   "execution_count": 3,
   "id": "20052a5b-d435-4b10-a262-98d7b0268758",
   "metadata": {},
   "outputs": [
    {
     "name": "stdout",
     "output_type": "stream",
     "text": [
      "I scored 15 in coding during my first semester.\n"
     ]
    }
   ],
   "source": [
    "marks = 15\n",
    "subject = 'coding'\n",
    "semester = 'first'\n",
    "\n",
    "result = 'I scored ' + str(marks) + ' in ' + subject + ' during my ' + semester + ' semester.'\n",
    "print(result)"
   ]
  },
  {
   "cell_type": "code",
   "execution_count": 4,
   "id": "8a012126-1a4c-40db-80f5-840f006c250f",
   "metadata": {},
   "outputs": [
    {
     "name": "stdout",
     "output_type": "stream",
     "text": [
      "does your dog bite\n"
     ]
    }
   ],
   "source": [
    "animal = 'dog'\n",
    "action = 'bite'\n",
    "print('does your {} {}'.format(animal, action))"
   ]
  },
  {
   "cell_type": "code",
   "execution_count": 5,
   "id": "f4ff0294-403d-4179-9029-fd32cc378b40",
   "metadata": {},
   "outputs": [
    {
     "name": "stdout",
     "output_type": "stream",
     "text": [
      "maria loves math and statistics\n"
     ]
    }
   ],
   "source": [
    "maria_string = 'maria loves {} and {}'\n",
    "print(maria_string.format('math', 'statistics'))"
   ]
  },
  {
   "cell_type": "code",
   "execution_count": 6,
   "id": "c34e4051-8018-4c53-befc-d993ef1b66ca",
   "metadata": {},
   "outputs": [
    {
     "name": "stdout",
     "output_type": "stream",
     "text": [
      "I scored 15 in coding during my first semester.\n"
     ]
    }
   ],
   "source": [
    "marks = 15\n",
    "subject = 'coding'\n",
    "semester = 'first'\n",
    "\n",
    "result = 'I scored {} in {} during my {} semester.'\n",
    "print(result.format(marks, subject, semester))"
   ]
  },
  {
   "cell_type": "code",
   "execution_count": 10,
   "id": "b2b564b5-c148-40e0-9a9b-386455168c9a",
   "metadata": {},
   "outputs": [
    {
     "name": "stdout",
     "output_type": "stream",
     "text": [
      "<class 'list'>\n",
      "sam\n",
      "ithiel\n"
     ]
    }
   ],
   "source": [
    "# lists\n",
    "\n",
    "students = ['sam', 'fiyin', 'austin', 'ithiel']\n",
    "print(type(students))\n",
    "print(students[0])\n",
    "print(students[-1])"
   ]
  },
  {
   "cell_type": "code",
   "execution_count": 11,
   "id": "530a3284-b897-47d9-a8a2-d47c6cb5bd7f",
   "metadata": {},
   "outputs": [
    {
     "name": "stdout",
     "output_type": "stream",
     "text": [
      "['a', 'b', 'c', 'd', 'e']\n"
     ]
    }
   ],
   "source": [
    "letters = ['a', 'b', 'c', 'd']\n",
    "letters.append('e')\n",
    "print(letters)"
   ]
  },
  {
   "cell_type": "code",
   "execution_count": 13,
   "id": "bac060d1-e404-446b-8b5f-df59f9b10d98",
   "metadata": {},
   "outputs": [
    {
     "name": "stdout",
     "output_type": "stream",
     "text": [
      "['e', 'a', 'b', 'c', 'd']\n"
     ]
    }
   ],
   "source": [
    "letters = ['a', 'b', 'c', 'd']\n",
    "letters.insert(0, 'e')\n",
    "print(letters)"
   ]
  },
  {
   "cell_type": "code",
   "execution_count": 14,
   "id": "efe1b96a-0903-4f52-8cde-28631403327c",
   "metadata": {},
   "outputs": [
    {
     "name": "stdout",
     "output_type": "stream",
     "text": [
      "<class 'tuple'>\n"
     ]
    }
   ],
   "source": [
    "# tuples\n",
    "vector = (3, 4, 5)\n",
    "print(type(vector))"
   ]
  },
  {
   "cell_type": "code",
   "execution_count": 16,
   "id": "f4ae005e-ccc2-4bc5-aefe-60df15cf24f2",
   "metadata": {},
   "outputs": [
    {
     "name": "stdout",
     "output_type": "stream",
     "text": [
      "<class 'dict'>\n"
     ]
    }
   ],
   "source": [
    "# dictionary\n",
    "elements = {'Hydrogen': 1, 'Helium': 2, 'Lithium': 3}\n",
    "print(type(elements))"
   ]
  },
  {
   "cell_type": "code",
   "execution_count": 17,
   "id": "884efcb9-996a-4dbd-b7ba-3803aa3f3482",
   "metadata": {},
   "outputs": [],
   "source": [
    "numbers = {1: 'one', 2: 'two', 3: 'three'}\n"
   ]
  },
  {
   "cell_type": "code",
   "execution_count": 19,
   "id": "445dd8cb-8f8f-4769-8bce-15218e8a0bde",
   "metadata": {},
   "outputs": [
    {
     "name": "stdout",
     "output_type": "stream",
     "text": [
      "the result is  7\n"
     ]
    }
   ],
   "source": [
    "# functions\n",
    "\n",
    "def addition(a,b):\n",
    "    c = a + b\n",
    "    print('the result is ', c)\n",
    "\n",
    "addition(3,4)"
   ]
  },
  {
   "cell_type": "code",
   "execution_count": 20,
   "id": "ccc146fa-1078-4467-8e97-6588af6d0a3c",
   "metadata": {},
   "outputs": [
    {
     "name": "stdout",
     "output_type": "stream",
     "text": [
      "0\n",
      "1\n",
      "2\n",
      "3\n",
      "4\n"
     ]
    }
   ],
   "source": [
    "# for loop\n",
    "for i in range(5):\n",
    "    print(i)\n",
    "    "
   ]
  },
  {
   "cell_type": "code",
   "execution_count": null,
   "id": "60986595-4717-4eca-aacf-260bad8743e2",
   "metadata": {},
   "outputs": [],
   "source": []
  }
 ],
 "metadata": {
  "kernelspec": {
   "display_name": "Python 3 (ipykernel)",
   "language": "python",
   "name": "python3"
  },
  "language_info": {
   "codemirror_mode": {
    "name": "ipython",
    "version": 3
   },
   "file_extension": ".py",
   "mimetype": "text/x-python",
   "name": "python",
   "nbconvert_exporter": "python",
   "pygments_lexer": "ipython3",
   "version": "3.11.5"
  }
 },
 "nbformat": 4,
 "nbformat_minor": 5
}
